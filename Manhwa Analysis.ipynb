{
 "cells": [
  {
   "cell_type": "markdown",
   "id": "4085707e-1f1d-491d-b3a4-0c79abe3d7cf",
   "metadata": {},
   "source": [
    "# Manhwa Analysis\n",
    "\n",
    "This is a mini Python project I created to sharpen my data analysis skills.  \n",
    "The dataset is manually compiled based on action, murim, and hunter-themed manhwa I have personally read. Each entry was documented and structured into a dataset format suitable for analysis.\n",
    "\n",
    "The goal of this project is to explore the dataset through statistics and visualizations, uncover interesting insights about high-performing titles, platform preferences, and more."
   ]
  },
  {
   "cell_type": "markdown",
   "id": "fc2110a1-514b-4128-870b-5f016a33e6ae",
   "metadata": {},
   "source": [
    "# 1. Import Libraries"
   ]
  },
  {
   "cell_type": "code",
   "execution_count": 52,
   "id": "9c692719-f184-4abc-abdb-075426bbfd21",
   "metadata": {},
   "outputs": [],
   "source": [
    "# Basic data handling\n",
    "import pandas as pd\n",
    "import numpy as np\n",
    "\n",
    "# Visualization\n",
    "import matplotlib.pyplot as plt\n",
    "import seaborn as sns\n",
    "\n",
    "# Plot styling\n",
    "sns.set_theme(style='whitegrid', palette='pastel')\n",
    "%matplotlib inline"
   ]
  },
  {
   "cell_type": "markdown",
   "id": "b4f7d090-651f-408f-9e76-8ed709a62d6f",
   "metadata": {},
   "source": [
    "# 2. Load Dataset"
   ]
  },
  {
   "cell_type": "code",
   "execution_count": 68,
   "id": "3136746e-6867-452d-beff-794da8e4b674",
   "metadata": {},
   "outputs": [
    {
     "data": {
      "text/plain": [
       "(45, 8)"
      ]
     },
     "execution_count": 68,
     "metadata": {},
     "output_type": "execute_result"
    }
   ],
   "source": [
    "# Load dataset\n",
    "data_path = \"Manhwa Cleaned.csv\"\n",
    "data = pd.read_csv(data_path, encoding='utf-8-sig')\n",
    "\n",
    "# Check the number of rows and columns\n",
    "data.shape  # Output format: (rows, columns)"
   ]
  },
  {
   "cell_type": "markdown",
   "id": "c592b75e-c88c-4364-b660-f41eb75f8c3d",
   "metadata": {},
   "source": [
    "# 3. Data Cleaning"
   ]
  },
  {
   "cell_type": "code",
   "execution_count": 69,
   "id": "c0cf93ff-c918-42a8-a51f-618946965f6b",
   "metadata": {},
   "outputs": [
    {
     "name": "stdout",
     "output_type": "stream",
     "text": [
      "Number of duplicate rows: 0\n",
      "Missing values per column:\n",
      "title           0\n",
      "author          0\n",
      "rating          0\n",
      "readers         0\n",
      "release_year    0\n",
      "status          0\n",
      "platform        0\n",
      "chapters        0\n",
      "dtype: int64\n"
     ]
    }
   ],
   "source": [
    "# Normalize column names: lowercase, no spaces\n",
    "data.columns = data.columns.str.strip().str.lower().str.replace(' ', '_')\n",
    "\n",
    "# Convert 'readers' to numeric (remove commas if necessary)\n",
    "data['readers'] = data['readers'].astype(str).str.replace(',', '').astype(float)\n",
    "\n",
    "# Optional: convert chapters to numeric if needed\n",
    "data['chapters'] = pd.to_numeric(data['chapters'], errors='coerce')\n",
    "\n",
    "# Check for duplicates\n",
    "duplicate_count = data.duplicated().sum()\n",
    "print(f\"Number of duplicate rows: {duplicate_count}\")\n",
    "\n",
    "# Check for missing values\n",
    "print(\"Missing values per column:\")\n",
    "print(data.isnull().sum())"
   ]
  },
  {
   "cell_type": "markdown",
   "id": "b33c6bce-af36-4915-9ae8-f1ef02639180",
   "metadata": {},
   "source": [
    "# 4. Data Preview"
   ]
  },
  {
   "cell_type": "code",
   "execution_count": 70,
   "id": "1a0056e9-2371-47b7-b0dd-3e8bfc70f06c",
   "metadata": {},
   "outputs": [
    {
     "name": "stdout",
     "output_type": "stream",
     "text": [
      "['title', 'author', 'rating', 'readers', 'release_year', 'status', 'platform', 'chapters']\n"
     ]
    }
   ],
   "source": [
    "print(data.columns.tolist())"
   ]
  },
  {
   "cell_type": "code",
   "execution_count": 71,
   "id": "ac8eb9af-5dcf-46de-b625-cdb767479c26",
   "metadata": {},
   "outputs": [
    {
     "data": {
      "text/html": [
       "<div>\n",
       "<style scoped>\n",
       "    .dataframe tbody tr th:only-of-type {\n",
       "        vertical-align: middle;\n",
       "    }\n",
       "\n",
       "    .dataframe tbody tr th {\n",
       "        vertical-align: top;\n",
       "    }\n",
       "\n",
       "    .dataframe thead th {\n",
       "        text-align: right;\n",
       "    }\n",
       "</style>\n",
       "<table border=\"1\" class=\"dataframe\">\n",
       "  <thead>\n",
       "    <tr style=\"text-align: right;\">\n",
       "      <th></th>\n",
       "      <th>title</th>\n",
       "      <th>author</th>\n",
       "      <th>rating</th>\n",
       "      <th>readers</th>\n",
       "      <th>release_year</th>\n",
       "      <th>status</th>\n",
       "      <th>platform</th>\n",
       "      <th>chapters</th>\n",
       "    </tr>\n",
       "  </thead>\n",
       "  <tbody>\n",
       "    <tr>\n",
       "      <th>0</th>\n",
       "      <td>I'm going to destroy this country</td>\n",
       "      <td>SAN.G</td>\n",
       "      <td>10</td>\n",
       "      <td>3,852,000</td>\n",
       "      <td>2025</td>\n",
       "      <td>Ongoing</td>\n",
       "      <td>KakaoPage</td>\n",
       "      <td>33</td>\n",
       "    </tr>\n",
       "    <tr>\n",
       "      <th>1</th>\n",
       "      <td>Myst, might, mayhem</td>\n",
       "      <td>Kim Tae-Hyung</td>\n",
       "      <td>10</td>\n",
       "      <td>2,000,000</td>\n",
       "      <td>2024</td>\n",
       "      <td>Ongoing</td>\n",
       "      <td>Webtoon</td>\n",
       "      <td>71</td>\n",
       "    </tr>\n",
       "    <tr>\n",
       "      <th>2</th>\n",
       "      <td>Best teacher baek</td>\n",
       "      <td>Ganjjajang</td>\n",
       "      <td>10</td>\n",
       "      <td>27,600,000</td>\n",
       "      <td>2021</td>\n",
       "      <td>Ongoing</td>\n",
       "      <td>Webtoon</td>\n",
       "      <td>117</td>\n",
       "    </tr>\n",
       "    <tr>\n",
       "      <th>3</th>\n",
       "      <td>Solo leveling</td>\n",
       "      <td>Chugong</td>\n",
       "      <td>10</td>\n",
       "      <td>5,500,000,000</td>\n",
       "      <td>2018</td>\n",
       "      <td>Complete</td>\n",
       "      <td>KakaoPage</td>\n",
       "      <td>200</td>\n",
       "    </tr>\n",
       "    <tr>\n",
       "      <th>4</th>\n",
       "      <td>The demonic cult leader is too reluctant</td>\n",
       "      <td>Kim Hyun-Young</td>\n",
       "      <td>9</td>\n",
       "      <td>585,846</td>\n",
       "      <td>2024</td>\n",
       "      <td>Ongoing</td>\n",
       "      <td>Webtoon</td>\n",
       "      <td>21</td>\n",
       "    </tr>\n",
       "  </tbody>\n",
       "</table>\n",
       "</div>"
      ],
      "text/plain": [
       "                                      title          author  rating  \\\n",
       "0         I'm going to destroy this country           SAN.G      10   \n",
       "1                       Myst, might, mayhem   Kim Tae-Hyung      10   \n",
       "2                         Best teacher baek      Ganjjajang      10   \n",
       "3                             Solo leveling         Chugong      10   \n",
       "4  The demonic cult leader is too reluctant  Kim Hyun-Young       9   \n",
       "\n",
       "        readers  release_year    status   platform  chapters  \n",
       "0     3,852,000          2025   Ongoing  KakaoPage        33  \n",
       "1     2,000,000          2024   Ongoing    Webtoon        71  \n",
       "2    27,600,000          2021   Ongoing    Webtoon       117  \n",
       "3 5,500,000,000          2018  Complete  KakaoPage       200  \n",
       "4       585,846          2024   Ongoing    Webtoon        21  "
      ]
     },
     "execution_count": 71,
     "metadata": {},
     "output_type": "execute_result"
    }
   ],
   "source": [
    "# Display the first 5 rows of the dataset\n",
    "data.head()"
   ]
  },
  {
   "cell_type": "markdown",
   "id": "1a68c881-3485-4bbe-9700-444ade4d7d10",
   "metadata": {},
   "source": [
    "# 5. Data Description"
   ]
  },
  {
   "cell_type": "markdown",
   "id": "1aaec68d-2c7f-49bb-b5a2-ed2a4db8dcfb",
   "metadata": {},
   "source": [
    "Below is a brief explanation of each column in the dataset:\n",
    "\n",
    "1. **tittle** – The title of the manhwa (comic series).\n",
    "2. **author** – The creator or writer of the manhwa.\n",
    "3. **rating** – The average reader rating on the original platform.\n",
    "4. **readers** – The total number of readers recorded on the original publishing platform.\n",
    "5. **release_year** – The year the manhwa was first published or serialized.\n",
    "6. **status** – Indicates whether the manhwa is ongoing or completed.\n",
    "7. **platform** – The digital platform or publisher where the manhwa was originally released (e.g., Webtoon, KakaoPage).\n",
    "8. **chapters** – Total number of chapters published."
   ]
  },
  {
   "cell_type": "markdown",
   "id": "669c2fb4-923c-4b80-b649-ac251be4e0db",
   "metadata": {},
   "source": [
    "# 6. Data Info & Descriptive Statistics"
   ]
  },
  {
   "cell_type": "code",
   "execution_count": 59,
   "id": "579d53db-c887-4de8-98ef-ed92b0cca41c",
   "metadata": {},
   "outputs": [
    {
     "name": "stdout",
     "output_type": "stream",
     "text": [
      "<class 'pandas.core.frame.DataFrame'>\n",
      "RangeIndex: 45 entries, 0 to 44\n",
      "Data columns (total 8 columns):\n",
      " #   Column        Non-Null Count  Dtype  \n",
      "---  ------        --------------  -----  \n",
      " 0   title         45 non-null     object \n",
      " 1   author        45 non-null     object \n",
      " 2   rating        45 non-null     float64\n",
      " 3   readers       45 non-null     float64\n",
      " 4   release_year  45 non-null     int64  \n",
      " 5   status        45 non-null     object \n",
      " 6   platform      45 non-null     object \n",
      " 7   chapters      45 non-null     int64  \n",
      "dtypes: float64(2), int64(2), object(4)\n",
      "memory usage: 2.9+ KB\n"
     ]
    }
   ],
   "source": [
    "# Display dataset structure and data types\n",
    "data.info()"
   ]
  },
  {
   "cell_type": "markdown",
   "id": "97c6d0b0-e86d-4e56-8aca-ba0bb4036e67",
   "metadata": {},
   "source": [
    "# 7. Explatory Data Analysis (EDA)"
   ]
  },
  {
   "cell_type": "code",
   "execution_count": 60,
   "id": "11302ca9-917e-46c6-a2d3-8928e75656e3",
   "metadata": {},
   "outputs": [
    {
     "data": {
      "text/html": [
       "<div>\n",
       "<style scoped>\n",
       "    .dataframe tbody tr th:only-of-type {\n",
       "        vertical-align: middle;\n",
       "    }\n",
       "\n",
       "    .dataframe tbody tr th {\n",
       "        vertical-align: top;\n",
       "    }\n",
       "\n",
       "    .dataframe thead th {\n",
       "        text-align: right;\n",
       "    }\n",
       "</style>\n",
       "<table border=\"1\" class=\"dataframe\">\n",
       "  <thead>\n",
       "    <tr style=\"text-align: right;\">\n",
       "      <th></th>\n",
       "      <th>rating</th>\n",
       "      <th>readers</th>\n",
       "      <th>chapters</th>\n",
       "    </tr>\n",
       "  </thead>\n",
       "  <tbody>\n",
       "    <tr>\n",
       "      <th>count</th>\n",
       "      <td>45</td>\n",
       "      <td>45</td>\n",
       "      <td>45</td>\n",
       "    </tr>\n",
       "    <tr>\n",
       "      <th>mean</th>\n",
       "      <td>10</td>\n",
       "      <td>209,668,421</td>\n",
       "      <td>139</td>\n",
       "    </tr>\n",
       "    <tr>\n",
       "      <th>std</th>\n",
       "      <td>0</td>\n",
       "      <td>823,016,761</td>\n",
       "      <td>83</td>\n",
       "    </tr>\n",
       "    <tr>\n",
       "      <th>min</th>\n",
       "      <td>9</td>\n",
       "      <td>585,846</td>\n",
       "      <td>21</td>\n",
       "    </tr>\n",
       "    <tr>\n",
       "      <th>25%</th>\n",
       "      <td>10</td>\n",
       "      <td>4,000,000</td>\n",
       "      <td>80</td>\n",
       "    </tr>\n",
       "    <tr>\n",
       "      <th>50%</th>\n",
       "      <td>10</td>\n",
       "      <td>27,600,000</td>\n",
       "      <td>124</td>\n",
       "    </tr>\n",
       "    <tr>\n",
       "      <th>75%</th>\n",
       "      <td>10</td>\n",
       "      <td>88,478,000</td>\n",
       "      <td>200</td>\n",
       "    </tr>\n",
       "    <tr>\n",
       "      <th>max</th>\n",
       "      <td>10</td>\n",
       "      <td>5,500,000,000</td>\n",
       "      <td>411</td>\n",
       "    </tr>\n",
       "  </tbody>\n",
       "</table>\n",
       "</div>"
      ],
      "text/plain": [
       "       rating       readers  chapters\n",
       "count      45            45        45\n",
       "mean       10   209,668,421       139\n",
       "std         0   823,016,761        83\n",
       "min         9       585,846        21\n",
       "25%        10     4,000,000        80\n",
       "50%        10    27,600,000       124\n",
       "75%        10    88,478,000       200\n",
       "max        10 5,500,000,000       411"
      ]
     },
     "execution_count": 60,
     "metadata": {},
     "output_type": "execute_result"
    }
   ],
   "source": [
    "# Display summary statistics for numerical features\n",
    "pd.options.display.float_format = '{:,.0f}'.format\n",
    "data[['rating', 'readers', 'chapters']].describe()"
   ]
  },
  {
   "cell_type": "code",
   "execution_count": 61,
   "id": "abaa0a8c-c99a-4e0e-9760-c7e65c69bf6f",
   "metadata": {},
   "outputs": [
    {
     "data": {
      "text/html": [
       "<style type=\"text/css\">\n",
       "</style>\n",
       "<table id=\"T_b1c9f\">\n",
       "  <thead>\n",
       "    <tr>\n",
       "      <th class=\"blank level0\" >&nbsp;</th>\n",
       "      <th id=\"T_b1c9f_level0_col0\" class=\"col_heading level0 col0\" >title</th>\n",
       "      <th id=\"T_b1c9f_level0_col1\" class=\"col_heading level0 col1\" >rating</th>\n",
       "    </tr>\n",
       "  </thead>\n",
       "  <tbody>\n",
       "    <tr>\n",
       "      <th id=\"T_b1c9f_level0_row0\" class=\"row_heading level0 row0\" >3</th>\n",
       "      <td id=\"T_b1c9f_row0_col0\" class=\"data row0 col0\" >Solo leveling</td>\n",
       "      <td id=\"T_b1c9f_row0_col1\" class=\"data row0 col1\" >10.0</td>\n",
       "    </tr>\n",
       "    <tr>\n",
       "      <th id=\"T_b1c9f_level0_row1\" class=\"row_heading level0 row1\" >26</th>\n",
       "      <td id=\"T_b1c9f_row1_col0\" class=\"data row1 col0\" >Eleceed</td>\n",
       "      <td id=\"T_b1c9f_row1_col1\" class=\"data row1 col1\" >9.9</td>\n",
       "    </tr>\n",
       "    <tr>\n",
       "      <th id=\"T_b1c9f_level0_row2\" class=\"row_heading level0 row2\" >27</th>\n",
       "      <td id=\"T_b1c9f_row2_col0\" class=\"data row2 col0\" >Omniscient Reader's Viewpoint</td>\n",
       "      <td id=\"T_b1c9f_row2_col1\" class=\"data row2 col1\" >9.9</td>\n",
       "    </tr>\n",
       "    <tr>\n",
       "      <th id=\"T_b1c9f_level0_row3\" class=\"row_heading level0 row3\" >29</th>\n",
       "      <td id=\"T_b1c9f_row3_col0\" class=\"data row3 col0\" >The greatest estate developer</td>\n",
       "      <td id=\"T_b1c9f_row3_col1\" class=\"data row3 col1\" >9.9</td>\n",
       "    </tr>\n",
       "    <tr>\n",
       "      <th id=\"T_b1c9f_level0_row4\" class=\"row_heading level0 row4\" >0</th>\n",
       "      <td id=\"T_b1c9f_row4_col0\" class=\"data row4 col0\" >I'm going to destroy this country</td>\n",
       "      <td id=\"T_b1c9f_row4_col1\" class=\"data row4 col1\" >9.9</td>\n",
       "    </tr>\n",
       "    <tr>\n",
       "      <th id=\"T_b1c9f_level0_row5\" class=\"row_heading level0 row5\" >32</th>\n",
       "      <td id=\"T_b1c9f_row5_col0\" class=\"data row5 col0\" >Infinite mage</td>\n",
       "      <td id=\"T_b1c9f_row5_col1\" class=\"data row5 col1\" >9.9</td>\n",
       "    </tr>\n",
       "    <tr>\n",
       "      <th id=\"T_b1c9f_level0_row6\" class=\"row_heading level0 row6\" >19</th>\n",
       "      <td id=\"T_b1c9f_row6_col0\" class=\"data row6 col0\" >Ranker who lives twice</td>\n",
       "      <td id=\"T_b1c9f_row6_col1\" class=\"data row6 col1\" >9.9</td>\n",
       "    </tr>\n",
       "    <tr>\n",
       "      <th id=\"T_b1c9f_level0_row7\" class=\"row_heading level0 row7\" >18</th>\n",
       "      <td id=\"T_b1c9f_row7_col0\" class=\"data row7 col0\" >Moon-shadow sword emeperor</td>\n",
       "      <td id=\"T_b1c9f_row7_col1\" class=\"data row7 col1\" >9.9</td>\n",
       "    </tr>\n",
       "    <tr>\n",
       "      <th id=\"T_b1c9f_level0_row8\" class=\"row_heading level0 row8\" >15</th>\n",
       "      <td id=\"T_b1c9f_row8_col0\" class=\"data row8 col0\" >Bizzarre restaurant</td>\n",
       "      <td id=\"T_b1c9f_row8_col1\" class=\"data row8 col1\" >9.9</td>\n",
       "    </tr>\n",
       "    <tr>\n",
       "      <th id=\"T_b1c9f_level0_row9\" class=\"row_heading level0 row9\" >30</th>\n",
       "      <td id=\"T_b1c9f_row9_col0\" class=\"data row9 col0\" >Leveling with the gods</td>\n",
       "      <td id=\"T_b1c9f_row9_col1\" class=\"data row9 col1\" >9.9</td>\n",
       "    </tr>\n",
       "  </tbody>\n",
       "</table>\n"
      ],
      "text/plain": [
       "<pandas.io.formats.style.Styler at 0x18497198d70>"
      ]
     },
     "execution_count": 61,
     "metadata": {},
     "output_type": "execute_result"
    }
   ],
   "source": [
    "# Top 10 Manhwa by Rating\n",
    "top_rating = data.sort_values(by='rating', ascending=False).head(10)\n",
    "top_rating[['title', 'rating']].style.format({'rating': '{:.1f}'})"
   ]
  },
  {
   "cell_type": "code",
   "execution_count": 62,
   "id": "c97ef436-f837-4e9a-a5d0-2ff2238c9b4b",
   "metadata": {},
   "outputs": [
    {
     "data": {
      "text/html": [
       "<div>\n",
       "<style scoped>\n",
       "    .dataframe tbody tr th:only-of-type {\n",
       "        vertical-align: middle;\n",
       "    }\n",
       "\n",
       "    .dataframe tbody tr th {\n",
       "        vertical-align: top;\n",
       "    }\n",
       "\n",
       "    .dataframe thead th {\n",
       "        text-align: right;\n",
       "    }\n",
       "</style>\n",
       "<table border=\"1\" class=\"dataframe\">\n",
       "  <thead>\n",
       "    <tr style=\"text-align: right;\">\n",
       "      <th></th>\n",
       "      <th>title</th>\n",
       "      <th>readers</th>\n",
       "    </tr>\n",
       "  </thead>\n",
       "  <tbody>\n",
       "    <tr>\n",
       "      <th>3</th>\n",
       "      <td>Solo leveling</td>\n",
       "      <td>5,500,000,000</td>\n",
       "    </tr>\n",
       "    <tr>\n",
       "      <th>39</th>\n",
       "      <td>Solo max-level newbie</td>\n",
       "      <td>901,333,000</td>\n",
       "    </tr>\n",
       "    <tr>\n",
       "      <th>27</th>\n",
       "      <td>Omniscient Reader's Viewpoint</td>\n",
       "      <td>464,700,000</td>\n",
       "    </tr>\n",
       "    <tr>\n",
       "      <th>26</th>\n",
       "      <td>Eleceed</td>\n",
       "      <td>396,000,000</td>\n",
       "    </tr>\n",
       "    <tr>\n",
       "      <th>19</th>\n",
       "      <td>Ranker who lives twice</td>\n",
       "      <td>330,000,000</td>\n",
       "    </tr>\n",
       "    <tr>\n",
       "      <th>22</th>\n",
       "      <td>Poison-eating healer</td>\n",
       "      <td>271,900,000</td>\n",
       "    </tr>\n",
       "    <tr>\n",
       "      <th>37</th>\n",
       "      <td>Mercenary Enrollment</td>\n",
       "      <td>235,000,000</td>\n",
       "    </tr>\n",
       "    <tr>\n",
       "      <th>29</th>\n",
       "      <td>The greatest estate developer</td>\n",
       "      <td>166,900,000</td>\n",
       "    </tr>\n",
       "    <tr>\n",
       "      <th>40</th>\n",
       "      <td>SSS-Class Suicide Hunter</td>\n",
       "      <td>120,000,000</td>\n",
       "    </tr>\n",
       "    <tr>\n",
       "      <th>44</th>\n",
       "      <td>Regressor instruction manual</td>\n",
       "      <td>100,000,000</td>\n",
       "    </tr>\n",
       "  </tbody>\n",
       "</table>\n",
       "</div>"
      ],
      "text/plain": [
       "                            title       readers\n",
       "3                   Solo leveling 5,500,000,000\n",
       "39          Solo max-level newbie   901,333,000\n",
       "27  Omniscient Reader's Viewpoint   464,700,000\n",
       "26                        Eleceed   396,000,000\n",
       "19         Ranker who lives twice   330,000,000\n",
       "22           Poison-eating healer   271,900,000\n",
       "37           Mercenary Enrollment   235,000,000\n",
       "29  The greatest estate developer   166,900,000\n",
       "40       SSS-Class Suicide Hunter   120,000,000\n",
       "44   Regressor instruction manual   100,000,000"
      ]
     },
     "execution_count": 62,
     "metadata": {},
     "output_type": "execute_result"
    }
   ],
   "source": [
    "# Top 10 Manhwa by Readers\n",
    "pd.options.display.float_format = '{:,.0f}'.format\n",
    "top_readers = data.sort_values(by='readers', ascending=False).head(10)\n",
    "top_readers[['title', 'readers']]"
   ]
  },
  {
   "cell_type": "code",
   "execution_count": 63,
   "id": "9fb50027-1e11-41e9-b370-ba83c9b85840",
   "metadata": {},
   "outputs": [
    {
     "data": {
      "image/png": "[encoded data removed]",
      "text/plain": [
       "<Figure size 640x480 with 1 Axes>"
      ]
     },
     "metadata": {},
     "output_type": "display_data"
    }
   ],
   "source": [
    "# Status Distribution (Pie Chart)\n",
    "data['status'].value_counts().plot.pie(\n",
    "    autopct='%1.1f%%',\n",
    "    startangle=140,\n",
    "    colors=sns.color_palette('pastel')\n",
    ")\n",
    "\n",
    "plt.title(\"Manhwa Status Distribution\")\n",
    "plt.ylabel('')\n",
    "plt.tight_layout()\n",
    "plt.show()"
   ]
  },
  {
   "cell_type": "code",
   "execution_count": 64,
   "id": "86707d18-52c3-4ca1-b546-36480735e061",
   "metadata": {},
   "outputs": [
    {
     "data": {
      "image/png": "[encoded data removed]",
      "text/plain": [
       "<Figure size 640x480 with 1 Axes>"
      ]
     },
     "metadata": {},
     "output_type": "display_data"
    }
   ],
   "source": [
    "# Release Trend by Year\n",
    "release_trend = data['release_year'].value_counts().sort_index()\n",
    "sns.lineplot(x=release_trend.index, y=release_trend.values, marker='o')\n",
    "\n",
    "plt.title(\"Trend of Manhwa Releases per Year\")\n",
    "plt.xlabel(\"Release Year\")\n",
    "plt.ylabel(\"Number of Manhwa\")\n",
    "plt.tight_layout()\n",
    "plt.show()"
   ]
  },
  {
   "cell_type": "code",
   "execution_count": 65,
   "id": "6021a6fc-b7d1-440c-856c-1d8b0fbd15f4",
   "metadata": {},
   "outputs": [
    {
     "data": {
      "image/png": "[encoded data removed]",
      "text/plain": [
       "<Figure size 640x480 with 1 Axes>"
      ]
     },
     "metadata": {},
     "output_type": "display_data"
    }
   ],
   "source": [
    "# Platform Popularity\n",
    "platform_counts = data['platform'].value_counts()\n",
    "sns.barplot(x=platform_counts.index, y=platform_counts.values)\n",
    "\n",
    "plt.title(\"Number of Manhwa per Platform\")\n",
    "plt.xlabel(\"Platform\")\n",
    "plt.ylabel(\"Number of Manhwa\")\n",
    "plt.xticks(rotation=45)\n",
    "plt.tight_layout()\n",
    "plt.show()"
   ]
  },
  {
   "cell_type": "code",
   "execution_count": 66,
   "id": "eb245d43-a099-4524-ac0f-113550788572",
   "metadata": {},
   "outputs": [
    {
     "data": {
      "image/png": "[encoded data removed]",
      "text/plain": [
       "<Figure size 640x480 with 1 Axes>"
      ]
     },
     "metadata": {},
     "output_type": "display_data"
    }
   ],
   "source": [
    "# Top Authors by Total Readers\n",
    "top_authors_readers = data.groupby('author')['readers'].sum().sort_values(ascending=False).head(10)\n",
    "sns.barplot(x=top_authors_readers.values, y=top_authors_readers.index)\n",
    "\n",
    "plt.title(\"Top 10 Authors by Total Readers\")\n",
    "plt.xlabel(\"Total Readers\")\n",
    "plt.ylabel(\"Author\")\n",
    "plt.tight_layout()\n",
    "plt.show()"
   ]
  },
  {
   "cell_type": "markdown",
   "id": "8d845559-1712-437f-ac7c-8aa72914bf4a",
   "metadata": {},
   "source": [
    "# 8. Key Insights\n",
    "\n",
    "- Most manhwas in this dataset have excellent ratings, with an average close to 9.7 out of 10.\n",
    "- Titles like *Solo Leveling* and *Omniscient Reader’s Viewpoint* are not only top-rated but also among the most read.\n",
    "- The majority of manhwas are published on Webtoon and KakaoPage, indicating dominance of these platforms.\n",
    "- The trend shows a rise in action/murim-themed manhwa after 2020, reflecting growing global popularity.\n",
    "- Authors such as Chugong and San.G are repeatedly present in top-performing titles.\n"
   ]
  },
  {
   "cell_type": "markdown",
   "id": "00e70905-db21-440a-9193-e41e31619af2",
   "metadata": {},
   "source": [
    "# 7. Personal Reflection\n",
    "\n",
    "This mini project was my personal initiative to practice data analysis using a dataset I created based on manhwas I enjoy. Although the data is limited and manually compiled, the process helped me reinforce my skills in Python, data visualization, and storytelling.\n",
    "\n",
    "Through this exploration, I learned not only about my data preferences but also how to structure a full EDA workflow—from loading, cleaning, exploring, to deriving insights.\n",
    "\n",
    "I look forward to refining this project further, maybe with a larger dataset and more advanced analytics. For now, I’m proud that this small step reflects my commitment to continuous learning."
   ]
  }
 ],
 "metadata": {
  "kernelspec": {
   "display_name": "Python 3 (ipykernel)",
   "language": "python",
   "name": "python3"
  },
  "language_info": {
   "codemirror_mode": {
    "name": "ipython",
    "version": 3
   },
   "file_extension": ".py",
   "mimetype": "text/x-python",
   "name": "python",
   "nbconvert_exporter": "python",
   "pygments_lexer": "ipython3",
   "version": "3.12.3"
  }
 },
 "nbformat": 4,
 "nbformat_minor": 5
}
